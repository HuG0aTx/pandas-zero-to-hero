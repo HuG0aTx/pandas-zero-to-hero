{
 "cells": [
  {
   "cell_type": "code",
   "id": "initial_id",
   "metadata": {
    "collapsed": true,
    "ExecuteTime": {
     "end_time": "2025-08-08T17:48:05.785413Z",
     "start_time": "2025-08-08T17:48:05.776538Z"
    }
   },
   "source": [
    "import pandas as pd\n",
    "\n",
    "df = pd.read_csv(\"ventes_produits.csv\")"
   ],
   "outputs": [],
   "execution_count": 18
  },
  {
   "metadata": {},
   "cell_type": "markdown",
   "source": "",
   "id": "9aba6ee48b983299"
  },
  {
   "metadata": {
    "ExecuteTime": {
     "end_time": "2025-08-08T17:48:07.013542Z",
     "start_time": "2025-08-08T17:48:07.005456Z"
    }
   },
   "cell_type": "code",
   "source": [
    "# Informations générales\n",
    "df.info()"
   ],
   "id": "615f6814fb3da4b1",
   "outputs": [
    {
     "name": "stdout",
     "output_type": "stream",
     "text": [
      "<class 'pandas.core.frame.DataFrame'>\n",
      "RangeIndex: 50 entries, 0 to 49\n",
      "Data columns (total 6 columns):\n",
      " #   Column         Non-Null Count  Dtype  \n",
      "---  ------         --------------  -----  \n",
      " 0   id             50 non-null     int64  \n",
      " 1   produit        50 non-null     object \n",
      " 2   categorie      50 non-null     object \n",
      " 3   prix_unitaire  50 non-null     float64\n",
      " 4   quantite       50 non-null     int64  \n",
      " 5   date_vente     50 non-null     object \n",
      "dtypes: float64(1), int64(2), object(3)\n",
      "memory usage: 2.5+ KB\n"
     ]
    }
   ],
   "execution_count": 19
  },
  {
   "metadata": {},
   "cell_type": "markdown",
   "source": "",
   "id": "5afc0b2631c677ea"
  },
  {
   "metadata": {
    "ExecuteTime": {
     "end_time": "2025-08-08T17:48:08.095223Z",
     "start_time": "2025-08-08T17:48:08.087572Z"
    }
   },
   "cell_type": "code",
   "source": [
    "# Afficher les 3 premières lignes\n",
    "df.head(3)"
   ],
   "id": "b4b055fb72ab500",
   "outputs": [
    {
     "data": {
      "text/plain": [
       "   id      produit     categorie  prix_unitaire  quantite  date_vente\n",
       "0   1   Stylo bleu     Papeterie            1.2        10  2025-01-05\n",
       "1   2  Classeur A4     Papeterie            3.5         5  2025-01-06\n",
       "2   3   Souris USB  Informatique           15.0         2  2025-01-07"
      ],
      "text/html": [
       "<div>\n",
       "<style scoped>\n",
       "    .dataframe tbody tr th:only-of-type {\n",
       "        vertical-align: middle;\n",
       "    }\n",
       "\n",
       "    .dataframe tbody tr th {\n",
       "        vertical-align: top;\n",
       "    }\n",
       "\n",
       "    .dataframe thead th {\n",
       "        text-align: right;\n",
       "    }\n",
       "</style>\n",
       "<table border=\"1\" class=\"dataframe\">\n",
       "  <thead>\n",
       "    <tr style=\"text-align: right;\">\n",
       "      <th></th>\n",
       "      <th>id</th>\n",
       "      <th>produit</th>\n",
       "      <th>categorie</th>\n",
       "      <th>prix_unitaire</th>\n",
       "      <th>quantite</th>\n",
       "      <th>date_vente</th>\n",
       "    </tr>\n",
       "  </thead>\n",
       "  <tbody>\n",
       "    <tr>\n",
       "      <th>0</th>\n",
       "      <td>1</td>\n",
       "      <td>Stylo bleu</td>\n",
       "      <td>Papeterie</td>\n",
       "      <td>1.2</td>\n",
       "      <td>10</td>\n",
       "      <td>2025-01-05</td>\n",
       "    </tr>\n",
       "    <tr>\n",
       "      <th>1</th>\n",
       "      <td>2</td>\n",
       "      <td>Classeur A4</td>\n",
       "      <td>Papeterie</td>\n",
       "      <td>3.5</td>\n",
       "      <td>5</td>\n",
       "      <td>2025-01-06</td>\n",
       "    </tr>\n",
       "    <tr>\n",
       "      <th>2</th>\n",
       "      <td>3</td>\n",
       "      <td>Souris USB</td>\n",
       "      <td>Informatique</td>\n",
       "      <td>15.0</td>\n",
       "      <td>2</td>\n",
       "      <td>2025-01-07</td>\n",
       "    </tr>\n",
       "  </tbody>\n",
       "</table>\n",
       "</div>"
      ]
     },
     "execution_count": 20,
     "metadata": {},
     "output_type": "execute_result"
    }
   ],
   "execution_count": 20
  },
  {
   "metadata": {},
   "cell_type": "markdown",
   "source": "",
   "id": "9a3e7903297da0da"
  },
  {
   "metadata": {
    "ExecuteTime": {
     "end_time": "2025-08-08T17:48:11.706181Z",
     "start_time": "2025-08-08T17:48:11.698154Z"
    }
   },
   "cell_type": "code",
   "source": [
    "# Afficher les 2 dernières lignes\n",
    "df.tail(2)"
   ],
   "id": "51c64069f24cdc75",
   "outputs": [
    {
     "data": {
      "text/plain": [
       "    id            produit     categorie  prix_unitaire  quantite  date_vente\n",
       "48  49  Bloc-notes coloré     Papeterie            2.5         6  2025-04-26\n",
       "49  50   Imprimante laser  Informatique          200.0         1  2025-04-28"
      ],
      "text/html": [
       "<div>\n",
       "<style scoped>\n",
       "    .dataframe tbody tr th:only-of-type {\n",
       "        vertical-align: middle;\n",
       "    }\n",
       "\n",
       "    .dataframe tbody tr th {\n",
       "        vertical-align: top;\n",
       "    }\n",
       "\n",
       "    .dataframe thead th {\n",
       "        text-align: right;\n",
       "    }\n",
       "</style>\n",
       "<table border=\"1\" class=\"dataframe\">\n",
       "  <thead>\n",
       "    <tr style=\"text-align: right;\">\n",
       "      <th></th>\n",
       "      <th>id</th>\n",
       "      <th>produit</th>\n",
       "      <th>categorie</th>\n",
       "      <th>prix_unitaire</th>\n",
       "      <th>quantite</th>\n",
       "      <th>date_vente</th>\n",
       "    </tr>\n",
       "  </thead>\n",
       "  <tbody>\n",
       "    <tr>\n",
       "      <th>48</th>\n",
       "      <td>49</td>\n",
       "      <td>Bloc-notes coloré</td>\n",
       "      <td>Papeterie</td>\n",
       "      <td>2.5</td>\n",
       "      <td>6</td>\n",
       "      <td>2025-04-26</td>\n",
       "    </tr>\n",
       "    <tr>\n",
       "      <th>49</th>\n",
       "      <td>50</td>\n",
       "      <td>Imprimante laser</td>\n",
       "      <td>Informatique</td>\n",
       "      <td>200.0</td>\n",
       "      <td>1</td>\n",
       "      <td>2025-04-28</td>\n",
       "    </tr>\n",
       "  </tbody>\n",
       "</table>\n",
       "</div>"
      ]
     },
     "execution_count": 21,
     "metadata": {},
     "output_type": "execute_result"
    }
   ],
   "execution_count": 21
  },
  {
   "metadata": {},
   "cell_type": "markdown",
   "source": "",
   "id": "ecfd12a71e57888a"
  },
  {
   "metadata": {
    "ExecuteTime": {
     "end_time": "2025-08-08T17:48:14.415571Z",
     "start_time": "2025-08-08T17:48:14.411362Z"
    }
   },
   "cell_type": "code",
   "source": [
    "# Nombre de lignes\n",
    "df.shape[0]"
   ],
   "id": "7c6933cafd458068",
   "outputs": [
    {
     "data": {
      "text/plain": [
       "50"
      ]
     },
     "execution_count": 22,
     "metadata": {},
     "output_type": "execute_result"
    }
   ],
   "execution_count": 22
  },
  {
   "metadata": {},
   "cell_type": "markdown",
   "source": "",
   "id": "6175f751eebdee81"
  },
  {
   "metadata": {
    "ExecuteTime": {
     "end_time": "2025-08-08T17:48:15.360762Z",
     "start_time": "2025-08-08T17:48:15.357885Z"
    }
   },
   "cell_type": "code",
   "source": [
    "# Nombre de colonnes\n",
    "df.shape[1]"
   ],
   "id": "909faa4aa89d54e",
   "outputs": [
    {
     "data": {
      "text/plain": [
       "6"
      ]
     },
     "execution_count": 23,
     "metadata": {},
     "output_type": "execute_result"
    }
   ],
   "execution_count": 23
  },
  {
   "metadata": {},
   "cell_type": "markdown",
   "source": "",
   "id": "dfedc5c14c554e47"
  },
  {
   "metadata": {
    "ExecuteTime": {
     "end_time": "2025-08-08T17:48:16.750741Z",
     "start_time": "2025-08-08T17:48:16.746753Z"
    }
   },
   "cell_type": "code",
   "source": [
    "# Liste des colonnes\n",
    "list(df.columns)"
   ],
   "id": "c51f4d92d18fafb2",
   "outputs": [
    {
     "data": {
      "text/plain": [
       "['id', 'produit', 'categorie', 'prix_unitaire', 'quantite', 'date_vente']"
      ]
     },
     "execution_count": 24,
     "metadata": {},
     "output_type": "execute_result"
    }
   ],
   "execution_count": 24
  },
  {
   "metadata": {},
   "cell_type": "markdown",
   "source": "",
   "id": "def75b8515b4fa4d"
  },
  {
   "metadata": {
    "ExecuteTime": {
     "end_time": "2025-08-08T17:48:18.409596Z",
     "start_time": "2025-08-08T17:48:18.404291Z"
    }
   },
   "cell_type": "code",
   "source": [
    "# Type de chaque colonne\n",
    "df.dtypes"
   ],
   "id": "4005db5cef944a36",
   "outputs": [
    {
     "data": {
      "text/plain": [
       "id                 int64\n",
       "produit           object\n",
       "categorie         object\n",
       "prix_unitaire    float64\n",
       "quantite           int64\n",
       "date_vente        object\n",
       "dtype: object"
      ]
     },
     "execution_count": 25,
     "metadata": {},
     "output_type": "execute_result"
    }
   ],
   "execution_count": 25
  },
  {
   "metadata": {},
   "cell_type": "markdown",
   "source": "",
   "id": "ccec55976ff08fe8"
  },
  {
   "metadata": {
    "ExecuteTime": {
     "end_time": "2025-08-08T17:48:19.336678Z",
     "start_time": "2025-08-08T17:48:19.325517Z"
    }
   },
   "cell_type": "code",
   "source": [
    "# Statistique descriptive\n",
    "df.describe()"
   ],
   "id": "ad21ef3c7112341a",
   "outputs": [
    {
     "data": {
      "text/plain": [
       "             id  prix_unitaire   quantite\n",
       "count  50.00000      50.000000  50.000000\n",
       "mean   25.50000      26.178000   5.980000\n",
       "std    14.57738      41.200908   9.085737\n",
       "min     1.00000       0.500000   1.000000\n",
       "25%    13.25000       2.500000   1.000000\n",
       "50%    25.50000       8.500000   3.000000\n",
       "75%    37.75000      28.750000   6.750000\n",
       "max    50.00000     200.000000  50.000000"
      ],
      "text/html": [
       "<div>\n",
       "<style scoped>\n",
       "    .dataframe tbody tr th:only-of-type {\n",
       "        vertical-align: middle;\n",
       "    }\n",
       "\n",
       "    .dataframe tbody tr th {\n",
       "        vertical-align: top;\n",
       "    }\n",
       "\n",
       "    .dataframe thead th {\n",
       "        text-align: right;\n",
       "    }\n",
       "</style>\n",
       "<table border=\"1\" class=\"dataframe\">\n",
       "  <thead>\n",
       "    <tr style=\"text-align: right;\">\n",
       "      <th></th>\n",
       "      <th>id</th>\n",
       "      <th>prix_unitaire</th>\n",
       "      <th>quantite</th>\n",
       "    </tr>\n",
       "  </thead>\n",
       "  <tbody>\n",
       "    <tr>\n",
       "      <th>count</th>\n",
       "      <td>50.00000</td>\n",
       "      <td>50.000000</td>\n",
       "      <td>50.000000</td>\n",
       "    </tr>\n",
       "    <tr>\n",
       "      <th>mean</th>\n",
       "      <td>25.50000</td>\n",
       "      <td>26.178000</td>\n",
       "      <td>5.980000</td>\n",
       "    </tr>\n",
       "    <tr>\n",
       "      <th>std</th>\n",
       "      <td>14.57738</td>\n",
       "      <td>41.200908</td>\n",
       "      <td>9.085737</td>\n",
       "    </tr>\n",
       "    <tr>\n",
       "      <th>min</th>\n",
       "      <td>1.00000</td>\n",
       "      <td>0.500000</td>\n",
       "      <td>1.000000</td>\n",
       "    </tr>\n",
       "    <tr>\n",
       "      <th>25%</th>\n",
       "      <td>13.25000</td>\n",
       "      <td>2.500000</td>\n",
       "      <td>1.000000</td>\n",
       "    </tr>\n",
       "    <tr>\n",
       "      <th>50%</th>\n",
       "      <td>25.50000</td>\n",
       "      <td>8.500000</td>\n",
       "      <td>3.000000</td>\n",
       "    </tr>\n",
       "    <tr>\n",
       "      <th>75%</th>\n",
       "      <td>37.75000</td>\n",
       "      <td>28.750000</td>\n",
       "      <td>6.750000</td>\n",
       "    </tr>\n",
       "    <tr>\n",
       "      <th>max</th>\n",
       "      <td>50.00000</td>\n",
       "      <td>200.000000</td>\n",
       "      <td>50.000000</td>\n",
       "    </tr>\n",
       "  </tbody>\n",
       "</table>\n",
       "</div>"
      ]
     },
     "execution_count": 26,
     "metadata": {},
     "output_type": "execute_result"
    }
   ],
   "execution_count": 26
  },
  {
   "metadata": {},
   "cell_type": "markdown",
   "source": "",
   "id": "15cebfce491ccf1b"
  },
  {
   "metadata": {
    "ExecuteTime": {
     "end_time": "2025-08-08T17:48:20.624556Z",
     "start_time": "2025-08-08T17:48:20.618824Z"
    }
   },
   "cell_type": "code",
   "source": [
    "# Nombre de valeurs manquantes par colonnes\n",
    "df.isna().sum()"
   ],
   "id": "e7ca91f9e92304a7",
   "outputs": [
    {
     "data": {
      "text/plain": [
       "id               0\n",
       "produit          0\n",
       "categorie        0\n",
       "prix_unitaire    0\n",
       "quantite         0\n",
       "date_vente       0\n",
       "dtype: int64"
      ]
     },
     "execution_count": 27,
     "metadata": {},
     "output_type": "execute_result"
    }
   ],
   "execution_count": 27
  }
 ],
 "metadata": {
  "kernelspec": {
   "display_name": "Python 3",
   "language": "python",
   "name": "python3"
  },
  "language_info": {
   "codemirror_mode": {
    "name": "ipython",
    "version": 2
   },
   "file_extension": ".py",
   "mimetype": "text/x-python",
   "name": "python",
   "nbconvert_exporter": "python",
   "pygments_lexer": "ipython2",
   "version": "2.7.6"
  }
 },
 "nbformat": 4,
 "nbformat_minor": 5
}
