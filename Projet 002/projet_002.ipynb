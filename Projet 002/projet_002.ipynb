{
 "cells": [
  {
   "cell_type": "code",
   "id": "initial_id",
   "metadata": {
    "collapsed": true,
    "ExecuteTime": {
     "end_time": "2025-08-08T18:01:45.364391Z",
     "start_time": "2025-08-08T18:01:45.167442Z"
    }
   },
   "source": [
    "import pandas as pd\n",
    "\n",
    "ventes = pd.read_csv(\"ventes_2024.csv\")  # Chargement du CSV"
   ],
   "outputs": [],
   "execution_count": 1
  },
  {
   "metadata": {},
   "cell_type": "markdown",
   "source": "",
   "id": "3b0ca188696877cc"
  },
  {
   "metadata": {
    "ExecuteTime": {
     "end_time": "2025-08-08T18:02:03.074063Z",
     "start_time": "2025-08-08T18:02:03.061048Z"
    }
   },
   "cell_type": "code",
   "source": "ventes.info()",
   "id": "72329db7e904a1c0",
   "outputs": [
    {
     "name": "stdout",
     "output_type": "stream",
     "text": [
      "<class 'pandas.core.frame.DataFrame'>\n",
      "RangeIndex: 96 entries, 0 to 95\n",
      "Data columns (total 5 columns):\n",
      " #   Column     Non-Null Count  Dtype \n",
      "---  ------     --------------  ----- \n",
      " 0   Produit    96 non-null     object\n",
      " 1   Categorie  96 non-null     object\n",
      " 2   Mois       96 non-null     int64 \n",
      " 3   Ventes     96 non-null     int64 \n",
      " 4   CA         96 non-null     int64 \n",
      "dtypes: int64(3), object(2)\n",
      "memory usage: 3.9+ KB\n"
     ]
    }
   ],
   "execution_count": 2
  },
  {
   "metadata": {},
   "cell_type": "markdown",
   "source": "",
   "id": "38525b39ffaa084c"
  },
  {
   "metadata": {
    "ExecuteTime": {
     "end_time": "2025-08-08T18:02:13.171961Z",
     "start_time": "2025-08-08T18:02:13.161285Z"
    }
   },
   "cell_type": "code",
   "source": [
    "# Afficher les 5 premières lignes\n",
    "ventes.head(5)"
   ],
   "id": "74d511b6bff216e0",
   "outputs": [
    {
     "data": {
      "text/plain": [
       "           Produit   Categorie  Mois  Ventes      CA\n",
       "0  SmartX ProPhone  Smartphone     1     150  120000\n",
       "1  SmartX ProPhone  Smartphone     2     180  144000\n",
       "2  SmartX ProPhone  Smartphone     3     200  160000\n",
       "3  SmartX ProPhone  Smartphone     4     220  176000\n",
       "4  SmartX ProPhone  Smartphone     5     210  168000"
      ],
      "text/html": [
       "<div>\n",
       "<style scoped>\n",
       "    .dataframe tbody tr th:only-of-type {\n",
       "        vertical-align: middle;\n",
       "    }\n",
       "\n",
       "    .dataframe tbody tr th {\n",
       "        vertical-align: top;\n",
       "    }\n",
       "\n",
       "    .dataframe thead th {\n",
       "        text-align: right;\n",
       "    }\n",
       "</style>\n",
       "<table border=\"1\" class=\"dataframe\">\n",
       "  <thead>\n",
       "    <tr style=\"text-align: right;\">\n",
       "      <th></th>\n",
       "      <th>Produit</th>\n",
       "      <th>Categorie</th>\n",
       "      <th>Mois</th>\n",
       "      <th>Ventes</th>\n",
       "      <th>CA</th>\n",
       "    </tr>\n",
       "  </thead>\n",
       "  <tbody>\n",
       "    <tr>\n",
       "      <th>0</th>\n",
       "      <td>SmartX ProPhone</td>\n",
       "      <td>Smartphone</td>\n",
       "      <td>1</td>\n",
       "      <td>150</td>\n",
       "      <td>120000</td>\n",
       "    </tr>\n",
       "    <tr>\n",
       "      <th>1</th>\n",
       "      <td>SmartX ProPhone</td>\n",
       "      <td>Smartphone</td>\n",
       "      <td>2</td>\n",
       "      <td>180</td>\n",
       "      <td>144000</td>\n",
       "    </tr>\n",
       "    <tr>\n",
       "      <th>2</th>\n",
       "      <td>SmartX ProPhone</td>\n",
       "      <td>Smartphone</td>\n",
       "      <td>3</td>\n",
       "      <td>200</td>\n",
       "      <td>160000</td>\n",
       "    </tr>\n",
       "    <tr>\n",
       "      <th>3</th>\n",
       "      <td>SmartX ProPhone</td>\n",
       "      <td>Smartphone</td>\n",
       "      <td>4</td>\n",
       "      <td>220</td>\n",
       "      <td>176000</td>\n",
       "    </tr>\n",
       "    <tr>\n",
       "      <th>4</th>\n",
       "      <td>SmartX ProPhone</td>\n",
       "      <td>Smartphone</td>\n",
       "      <td>5</td>\n",
       "      <td>210</td>\n",
       "      <td>168000</td>\n",
       "    </tr>\n",
       "  </tbody>\n",
       "</table>\n",
       "</div>"
      ]
     },
     "execution_count": 3,
     "metadata": {},
     "output_type": "execute_result"
    }
   ],
   "execution_count": 3
  },
  {
   "metadata": {},
   "cell_type": "markdown",
   "source": "",
   "id": "14bfb58035e80335"
  },
  {
   "metadata": {
    "ExecuteTime": {
     "end_time": "2025-08-08T18:02:31.822832Z",
     "start_time": "2025-08-08T18:02:31.820365Z"
    }
   },
   "cell_type": "code",
   "source": [
    "# Nombre de lignes\n",
    "ventes.shape[0]"
   ],
   "id": "2ab12157db27977a",
   "outputs": [
    {
     "data": {
      "text/plain": [
       "96"
      ]
     },
     "execution_count": 4,
     "metadata": {},
     "output_type": "execute_result"
    }
   ],
   "execution_count": 4
  },
  {
   "metadata": {},
   "cell_type": "markdown",
   "source": "",
   "id": "c7472e93af06b06b"
  },
  {
   "metadata": {
    "ExecuteTime": {
     "end_time": "2025-08-08T18:02:39.981854Z",
     "start_time": "2025-08-08T18:02:39.977389Z"
    }
   },
   "cell_type": "code",
   "source": [
    "# Nombre de colonnes\n",
    "ventes.shape[1]"
   ],
   "id": "9ff61f0e94e7c6b2",
   "outputs": [
    {
     "data": {
      "text/plain": [
       "5"
      ]
     },
     "execution_count": 5,
     "metadata": {},
     "output_type": "execute_result"
    }
   ],
   "execution_count": 5
  },
  {
   "metadata": {},
   "cell_type": "markdown",
   "source": "",
   "id": "42d8ea478d9e00ad"
  },
  {
   "metadata": {
    "ExecuteTime": {
     "end_time": "2025-08-08T18:03:13.150666Z",
     "start_time": "2025-08-08T18:03:13.146019Z"
    }
   },
   "cell_type": "code",
   "source": [
    "# Total des ventes\n",
    "ventes[\"Ventes\"].sum()"
   ],
   "id": "a2c32444a8b2ab76",
   "outputs": [
    {
     "data": {
      "text/plain": [
       "np.int64(15728)"
      ]
     },
     "execution_count": 6,
     "metadata": {},
     "output_type": "execute_result"
    }
   ],
   "execution_count": 6
  },
  {
   "metadata": {},
   "cell_type": "markdown",
   "source": "",
   "id": "9c4ff9d0197b58a"
  },
  {
   "metadata": {
    "ExecuteTime": {
     "end_time": "2025-08-08T18:03:31.909393Z",
     "start_time": "2025-08-08T18:03:31.903636Z"
    }
   },
   "cell_type": "code",
   "source": [
    "# Chiffre d'affaire total\n",
    "ventes[\"CA\"].sum()"
   ],
   "id": "2127f1565cbbc3bd",
   "outputs": [
    {
     "data": {
      "text/plain": [
       "np.int64(7987000)"
      ]
     },
     "execution_count": 7,
     "metadata": {},
     "output_type": "execute_result"
    }
   ],
   "execution_count": 7
  },
  {
   "metadata": {},
   "cell_type": "markdown",
   "source": "",
   "id": "c20b2ad3ff0920ab"
  },
  {
   "metadata": {
    "ExecuteTime": {
     "end_time": "2025-08-08T18:11:52.850558Z",
     "start_time": "2025-08-08T18:11:52.845668Z"
    }
   },
   "cell_type": "code",
   "source": [
    "# Nombre de produits distincts\n",
    "ventes[\"Produit\"].nunique()"
   ],
   "id": "20083528b3dd2cf",
   "outputs": [
    {
     "data": {
      "text/plain": [
       "8"
      ]
     },
     "execution_count": 22,
     "metadata": {},
     "output_type": "execute_result"
    }
   ],
   "execution_count": 22
  },
  {
   "metadata": {},
   "cell_type": "markdown",
   "source": "",
   "id": "7a9ce83dfca0040d"
  },
  {
   "metadata": {
    "ExecuteTime": {
     "end_time": "2025-08-08T18:11:47.050504Z",
     "start_time": "2025-08-08T18:11:47.045756Z"
    }
   },
   "cell_type": "code",
   "source": [
    "# Nombre de catégories distinctes\n",
    "ventes[\"Categorie\"].nunique()"
   ],
   "id": "53f28aa577b82b55",
   "outputs": [
    {
     "data": {
      "text/plain": [
       "5"
      ]
     },
     "execution_count": 21,
     "metadata": {},
     "output_type": "execute_result"
    }
   ],
   "execution_count": 21
  },
  {
   "metadata": {
    "ExecuteTime": {
     "end_time": "2025-08-08T18:06:23.856996Z",
     "start_time": "2025-08-08T18:06:23.850516Z"
    }
   },
   "cell_type": "code",
   "source": [
    "# Produit avec le chiffre d'affaires annuel le plus élevé\n",
    "ventes.groupby(\"Produit\")[\"CA\"].sum().idxmax()"
   ],
   "id": "47bb2d82ed7fc41",
   "outputs": [
    {
     "data": {
      "text/plain": [
       "'SmartX ProPhone'"
      ]
     },
     "execution_count": 14,
     "metadata": {},
     "output_type": "execute_result"
    }
   ],
   "execution_count": 14
  },
  {
   "metadata": {},
   "cell_type": "markdown",
   "source": "",
   "id": "165f5478f9f3feff"
  },
  {
   "metadata": {
    "ExecuteTime": {
     "end_time": "2025-08-08T18:06:49.301654Z",
     "start_time": "2025-08-08T18:06:49.296489Z"
    }
   },
   "cell_type": "code",
   "source": [
    "# Catégorie avec le chiffre d’affaires annuel le plus faible\n",
    "ventes.groupby(\"Categorie\")[\"CA\"].sum().idxmin()"
   ],
   "id": "e71bb2d399f5b52c",
   "outputs": [
    {
     "data": {
      "text/plain": [
       "'Console'"
      ]
     },
     "execution_count": 15,
     "metadata": {},
     "output_type": "execute_result"
    }
   ],
   "execution_count": 15
  },
  {
   "metadata": {},
   "cell_type": "markdown",
   "source": "",
   "id": "48a69787bd8e12c8"
  },
  {
   "metadata": {
    "ExecuteTime": {
     "end_time": "2025-08-08T18:21:21.111002Z",
     "start_time": "2025-08-08T18:21:21.103904Z"
    }
   },
   "cell_type": "code",
   "source": [
    "# Chiffre d’affaires moyen pour chaque produit.\n",
    "ventes.groupby(\"Produit\")[\"CA\"].mean().round(2)"
   ],
   "id": "d101bca5161bb780",
   "outputs": [
    {
     "data": {
      "text/plain": [
       "Produit\n",
       "Camera Pro         127500.00\n",
       "EarBuds Plus        36000.00\n",
       "GameBox X           26833.33\n",
       "LapTop Max          66500.00\n",
       "SmartX Mini         88500.00\n",
       "SmartX ProPhone    188000.00\n",
       "TabMaster 10        95333.33\n",
       "TabMini 8           36916.67\n",
       "Name: CA, dtype: float64"
      ]
     },
     "execution_count": 24,
     "metadata": {},
     "output_type": "execute_result"
    }
   ],
   "execution_count": 24
  },
  {
   "metadata": {},
   "cell_type": "markdown",
   "source": "",
   "id": "7c95c7312c75ed5f"
  },
  {
   "metadata": {
    "ExecuteTime": {
     "end_time": "2025-08-08T18:08:35.539978Z",
     "start_time": "2025-08-08T18:08:35.534667Z"
    }
   },
   "cell_type": "code",
   "source": [
    "# Trier les produits par chiffre d’affaires total décroissant\n",
    "ventes.groupby([\"Produit\"])[\"CA\"].sum().sort_values(ascending=False)"
   ],
   "id": "43131ca64d0df52a",
   "outputs": [
    {
     "data": {
      "text/plain": [
       "Produit\n",
       "SmartX ProPhone    2256000\n",
       "Camera Pro         1530000\n",
       "TabMaster 10       1144000\n",
       "SmartX Mini        1062000\n",
       "LapTop Max          798000\n",
       "TabMini 8           443000\n",
       "EarBuds Plus        432000\n",
       "GameBox X           322000\n",
       "Name: CA, dtype: int64"
      ]
     },
     "execution_count": 18,
     "metadata": {},
     "output_type": "execute_result"
    }
   ],
   "execution_count": 18
  },
  {
   "metadata": {},
   "cell_type": "markdown",
   "source": "",
   "id": "6a5426f780684157"
  },
  {
   "metadata": {
    "ExecuteTime": {
     "end_time": "2025-08-08T18:09:56.463554Z",
     "start_time": "2025-08-08T18:09:56.460921Z"
    }
   },
   "cell_type": "code",
   "source": [
    "# Créer une nouvelle colonne Prix_moyen = CA / Ventes.\n",
    "ventes[\"Prix_moyen\"] = ventes[\"CA\"] / ventes[\"Ventes\"]"
   ],
   "id": "c2fe2d3dccbb06a7",
   "outputs": [],
   "execution_count": 20
  }
 ],
 "metadata": {
  "kernelspec": {
   "display_name": "Python 3",
   "language": "python",
   "name": "python3"
  },
  "language_info": {
   "codemirror_mode": {
    "name": "ipython",
    "version": 2
   },
   "file_extension": ".py",
   "mimetype": "text/x-python",
   "name": "python",
   "nbconvert_exporter": "python",
   "pygments_lexer": "ipython2",
   "version": "2.7.6"
  }
 },
 "nbformat": 4,
 "nbformat_minor": 5
}
